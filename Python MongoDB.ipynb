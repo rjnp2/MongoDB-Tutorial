{
 "cells": [
  {
   "cell_type": "markdown",
   "id": "fitting-brief",
   "metadata": {},
   "source": [
    "## Python MongoDB Connectivity\n",
    "To create connection between Python programming language and MongoDB database, we need to first install pymongo driver. Here, we are creating an example that connects to the database and performs basic database operations.\n",
    "\n",
    "This example includes the following steps:\n",
    "\n",
    "1) Install Driver\n",
    "\n",
    "       pip install pymongo "
   ]
  },
  {
   "cell_type": "markdown",
   "id": "prospective-warning",
   "metadata": {},
   "source": [
    "## Creating a Database\n",
    "\n",
    "To create a database in MongoDB, start by creating a MongoClient object, then specify a connection URL with the correct ip address and the name of the database you want to create.\n",
    "\n",
    "MongoDB will create the database if it does not exist, and make a connection to it."
   ]
  },
  {
   "cell_type": "code",
   "execution_count": 1,
   "id": "magnetic-theater",
   "metadata": {},
   "outputs": [],
   "source": [
    "import pymongo\n",
    "\n",
    "myclient = pymongo.MongoClient(\"mongodb://localhost:27017/\")"
   ]
  },
  {
   "cell_type": "markdown",
   "id": "advanced-logan",
   "metadata": {},
   "source": [
    "## Check if Database Exists"
   ]
  },
  {
   "cell_type": "code",
   "execution_count": 2,
   "id": "horizontal-gossip",
   "metadata": {},
   "outputs": [
    {
     "name": "stdout",
     "output_type": "stream",
     "text": [
      "['admin', 'config', 'local']\n"
     ]
    }
   ],
   "source": [
    "print(myclient.list_database_names())\n",
    "\n",
    "dblist = myclient.list_database_names()\n",
    "if \"mydatabase\" in dblist:\n",
    "   print(\"The database exists.\")"
   ]
  },
  {
   "cell_type": "code",
   "execution_count": 3,
   "id": "piano-librarian",
   "metadata": {},
   "outputs": [],
   "source": [
    "mydb = myclient[\"firstdb\"]"
   ]
  },
  {
   "cell_type": "markdown",
   "id": "documentary-dylan",
   "metadata": {},
   "source": [
    "## Check if Collection Exists\n",
    "You can check if a collection exist in a database by listing all collections:"
   ]
  },
  {
   "cell_type": "code",
   "execution_count": 4,
   "id": "elder-genius",
   "metadata": {},
   "outputs": [],
   "source": [
    "collist = mydb.list_collection_names()\n",
    "if \"customers\" in collist:\n",
    "  print(\"The collection exists.\")"
   ]
  },
  {
   "cell_type": "markdown",
   "id": "greatest-employer",
   "metadata": {},
   "source": [
    "## Creating a collection"
   ]
  },
  {
   "cell_type": "code",
   "execution_count": 5,
   "id": "welcome-slovenia",
   "metadata": {},
   "outputs": [],
   "source": [
    "mycol = mydb[\"customers\"]"
   ]
  },
  {
   "cell_type": "markdown",
   "id": "worst-brooklyn",
   "metadata": {},
   "source": [
    "## Insert Into Collection\n",
    "To insert a record, or document as it is called in MongoDB, into a collection, we use the insert_one() method.\n",
    "\n",
    "The first parameter of the insert_one() method is a dictionary containing the name(s) and value(s) of each field in the document you want to insert."
   ]
  },
  {
   "cell_type": "code",
   "execution_count": 6,
   "id": "frequent-glass",
   "metadata": {},
   "outputs": [],
   "source": [
    "mydict = { \"name\": \"John\", \"address\": \"Highway 37\" }\n",
    "\n",
    "x = mycol.insert_one(mydict)"
   ]
  },
  {
   "cell_type": "markdown",
   "id": "recent-scout",
   "metadata": {},
   "source": [
    "## Return the _id Field\n",
    "The insert_one() method returns a InsertOneResult object, which has a property, inserted_id, that holds the id of the inserted document."
   ]
  },
  {
   "cell_type": "code",
   "execution_count": 7,
   "id": "bored-correction",
   "metadata": {},
   "outputs": [
    {
     "name": "stdout",
     "output_type": "stream",
     "text": [
      "606abaaac53e7d839fc9962e\n"
     ]
    }
   ],
   "source": [
    "mydict = { \"name\": \"Peter\", \"address\": \"Lowstreet 27\" }\n",
    "x = mycol.insert_one(mydict)\n",
    "\n",
    "print(x.inserted_id)"
   ]
  },
  {
   "cell_type": "markdown",
   "id": "intense-approach",
   "metadata": {},
   "source": [
    "If you do not specify an _id field, then MongoDB will add one for you and assign a unique id for each document.\n",
    "\n",
    "In the example above no _id field was specified, so MongoDB assigned a unique _id for the record (document)."
   ]
  },
  {
   "cell_type": "markdown",
   "id": "rural-kansas",
   "metadata": {},
   "source": [
    "## Insert Multiple Documents\n",
    "To insert multiple documents into a collection in MongoDB, we use the insert_many() method.\n",
    "\n",
    "The first parameter of the insert_many() method is a list containing dictionaries with the data you want to insert:"
   ]
  },
  {
   "cell_type": "code",
   "execution_count": 8,
   "id": "institutional-three",
   "metadata": {},
   "outputs": [
    {
     "name": "stdout",
     "output_type": "stream",
     "text": [
      "[ObjectId('606abac3c53e7d839fc9962f'), ObjectId('606abac3c53e7d839fc99630'), ObjectId('606abac3c53e7d839fc99631'), ObjectId('606abac3c53e7d839fc99632'), ObjectId('606abac3c53e7d839fc99633'), ObjectId('606abac3c53e7d839fc99634'), ObjectId('606abac3c53e7d839fc99635'), ObjectId('606abac3c53e7d839fc99636'), ObjectId('606abac3c53e7d839fc99637'), ObjectId('606abac3c53e7d839fc99638'), ObjectId('606abac3c53e7d839fc99639'), ObjectId('606abac3c53e7d839fc9963a')]\n"
     ]
    }
   ],
   "source": [
    "mylist = [\n",
    "  { \"name\": \"Amy\", \"address\": \"Apple st 652\"},\n",
    "  { \"name\": \"Hannah\", \"address\": \"Mountain 21\"},\n",
    "  { \"name\": \"Michael\", \"address\": \"Valley 345\"},\n",
    "  { \"name\": \"Sandy\", \"address\": \"Ocean blvd 2\"},\n",
    "  { \"name\": \"Betty\", \"address\": \"Green Grass 1\"},\n",
    "  { \"name\": \"Richard\", \"address\": \"Sky st 331\"},\n",
    "  { \"name\": \"Susan\", \"address\": \"One way 98\"},\n",
    "  { \"name\": \"Vicky\", \"address\": \"Yellow Garden 2\"},\n",
    "  { \"name\": \"Ben\", \"address\": \"Park Lane 38\"},\n",
    "  { \"name\": \"William\", \"address\": \"Central st 954\"},\n",
    "  { \"name\": \"Chuck\", \"address\": \"Main Road 989\"},\n",
    "  { \"name\": \"Viola\", \"address\": \"Sideway 1633\"}\n",
    "]\n",
    "\n",
    "x = mycol.insert_many(mylist)\n",
    "\n",
    "#print list of the _id values of the inserted documents:\n",
    "print(x.inserted_ids)"
   ]
  },
  {
   "cell_type": "markdown",
   "id": "operating-cooper",
   "metadata": {},
   "source": [
    "The insert_many() method returns a InsertManyResult object, which has a property, inserted_ids, that holds the ids of the inserted documents.m"
   ]
  },
  {
   "cell_type": "markdown",
   "id": "sharing-container",
   "metadata": {},
   "source": [
    "## Insert Multiple Documents, with Specified IDs\n",
    "If you do not want MongoDB to assign unique ids for you document, you can specify the _id field when you insert the document(s).\n",
    "\n",
    "Remember that the values has to be unique. Two documents cannot have the same _id.\n",
    "\n"
   ]
  },
  {
   "cell_type": "code",
   "execution_count": 26,
   "id": "dedicated-unknown",
   "metadata": {},
   "outputs": [
    {
     "name": "stdout",
     "output_type": "stream",
     "text": [
      "[1, 2, 3, 4, 5, 6, 7, 8, 9, 10, 11, 12, 13, 14]\n"
     ]
    }
   ],
   "source": [
    "mydb = myclient[\"firstdb1\"]\n",
    "mycol = mydb[\"customers\"]\n",
    "\n",
    "mylist = [\n",
    "  { \"_id\": 1, \"name\": \"John\", \"address\": \"Highway 37\"},\n",
    "  { \"_id\": 2, \"name\": \"Peter\", \"address\": \"Lowstreet 27\"},\n",
    "  { \"_id\": 3, \"name\": \"Amy\", \"address\": \"Apple st 652\"},\n",
    "  { \"_id\": 4, \"name\": \"Hannah\", \"address\": \"Mountain 21\"},\n",
    "  { \"_id\": 5, \"name\": \"Michael\", \"address\": \"Valley 345\"},\n",
    "  { \"_id\": 6, \"name\": \"Sandy\", \"address\": \"Ocean blvd 2\"},\n",
    "  { \"_id\": 7, \"name\": \"Betty\", \"address\": \"Green Grass 1\"},\n",
    "  { \"_id\": 8, \"name\": \"Richard\", \"address\": \"Sky st 331\"},\n",
    "  { \"_id\": 9, \"name\": \"Susan\", \"address\": \"One way 98\"},\n",
    "  { \"_id\": 10, \"name\": \"Vicky\", \"address\": \"Yellow Garden 2\"},\n",
    "  { \"_id\": 11, \"name\": \"Ben\", \"address\": \"Park Lane 38\"},\n",
    "  { \"_id\": 12, \"name\": \"William\", \"address\": \"Central st 954\"},\n",
    "  { \"_id\": 13, \"name\": \"Chuck\", \"address\": \"Main Road 989\"},\n",
    "  { \"_id\": 14, \"name\": \"Viola\", \"address\": \"Sideway 1633\"}\n",
    "]\n",
    "\n",
    "x = mycol.insert_many(mylist)\n",
    "\n",
    "#print list of the _id values of the inserted documents:\n",
    "print(x.inserted_ids)"
   ]
  },
  {
   "cell_type": "markdown",
   "id": "cloudy-hypothetical",
   "metadata": {},
   "source": [
    "## Find One\n",
    "To select data from a collection in MongoDB, we can use the find_one() method.\n",
    "\n",
    "The find_one() method returns the first occurrence in the selection."
   ]
  },
  {
   "cell_type": "code",
   "execution_count": 13,
   "id": "electronic-immunology",
   "metadata": {},
   "outputs": [
    {
     "name": "stdout",
     "output_type": "stream",
     "text": [
      "{'_id': 1, 'name': 'John', 'address': 'Highway 37'}\n"
     ]
    }
   ],
   "source": [
    "x = mycol.find_one()\n",
    "\n",
    "print(x)"
   ]
  },
  {
   "cell_type": "markdown",
   "id": "american-canal",
   "metadata": {},
   "source": [
    "## Find All\n",
    "To select data from a table in MongoDB, we can also use the find() method.\n",
    "\n",
    "The find() method returns all occurrences in the selection.\n",
    "\n",
    "The first parameter of the find() method is a query object. In this example we use an empty query object, which selects all documents in the collection."
   ]
  },
  {
   "cell_type": "code",
   "execution_count": 14,
   "id": "baking-cabin",
   "metadata": {},
   "outputs": [
    {
     "name": "stdout",
     "output_type": "stream",
     "text": [
      "{'_id': 1, 'name': 'John', 'address': 'Highway 37'}\n",
      "{'_id': 2, 'name': 'Peter', 'address': 'Lowstreet 27'}\n",
      "{'_id': 3, 'name': 'Amy', 'address': 'Apple st 652'}\n",
      "{'_id': 4, 'name': 'Hannah', 'address': 'Mountain 21'}\n",
      "{'_id': 5, 'name': 'Michael', 'address': 'Valley 345'}\n",
      "{'_id': 6, 'name': 'Sandy', 'address': 'Ocean blvd 2'}\n",
      "{'_id': 7, 'name': 'Betty', 'address': 'Green Grass 1'}\n",
      "{'_id': 8, 'name': 'Richard', 'address': 'Sky st 331'}\n",
      "{'_id': 9, 'name': 'Susan', 'address': 'One way 98'}\n",
      "{'_id': 10, 'name': 'Vicky', 'address': 'Yellow Garden 2'}\n",
      "{'_id': 11, 'name': 'Ben', 'address': 'Park Lane 38'}\n",
      "{'_id': 12, 'name': 'William', 'address': 'Central st 954'}\n",
      "{'_id': 13, 'name': 'Chuck', 'address': 'Main Road 989'}\n",
      "{'_id': 14, 'name': 'Viola', 'address': 'Sideway 1633'}\n"
     ]
    }
   ],
   "source": [
    "for x in mycol.find():\n",
    "  print(x)"
   ]
  },
  {
   "cell_type": "markdown",
   "id": "alert-compiler",
   "metadata": {},
   "source": [
    "## Return Only Some Fields\n",
    "The second parameter of the find() method is an object describing which fields to include in the result.\n",
    "\n",
    "This parameter is optional, and if omitted, all fields will be included in the result.\n",
    "\n"
   ]
  },
  {
   "cell_type": "code",
   "execution_count": 15,
   "id": "regulated-unemployment",
   "metadata": {},
   "outputs": [
    {
     "name": "stdout",
     "output_type": "stream",
     "text": [
      "{'name': 'John', 'address': 'Highway 37'}\n",
      "{'name': 'Peter', 'address': 'Lowstreet 27'}\n",
      "{'name': 'Amy', 'address': 'Apple st 652'}\n",
      "{'name': 'Hannah', 'address': 'Mountain 21'}\n",
      "{'name': 'Michael', 'address': 'Valley 345'}\n",
      "{'name': 'Sandy', 'address': 'Ocean blvd 2'}\n",
      "{'name': 'Betty', 'address': 'Green Grass 1'}\n",
      "{'name': 'Richard', 'address': 'Sky st 331'}\n",
      "{'name': 'Susan', 'address': 'One way 98'}\n",
      "{'name': 'Vicky', 'address': 'Yellow Garden 2'}\n",
      "{'name': 'Ben', 'address': 'Park Lane 38'}\n",
      "{'name': 'William', 'address': 'Central st 954'}\n",
      "{'name': 'Chuck', 'address': 'Main Road 989'}\n",
      "{'name': 'Viola', 'address': 'Sideway 1633'}\n"
     ]
    }
   ],
   "source": [
    "for x in mycol.find({},{ \"_id\": 0, \"name\": 1, \"address\": 1 }):\n",
    "  print(x)"
   ]
  },
  {
   "cell_type": "markdown",
   "id": "associate-brake",
   "metadata": {},
   "source": [
    "## Filter the Result\n",
    "When finding documents in a collection, you can filter the result by using a query object.\n",
    "\n",
    "The first argument of the find() method is a query object, and is used to limit the search.\n",
    "\n"
   ]
  },
  {
   "cell_type": "code",
   "execution_count": 16,
   "id": "unique-avatar",
   "metadata": {},
   "outputs": [
    {
     "name": "stdout",
     "output_type": "stream",
     "text": [
      "{'_id': 11, 'name': 'Ben', 'address': 'Park Lane 38'}\n"
     ]
    }
   ],
   "source": [
    "myquery = { \"address\": \"Park Lane 38\" }\n",
    "\n",
    "mydoc = mycol.find(myquery)\n",
    "\n",
    "for x in mydoc:\n",
    "  print(x)"
   ]
  },
  {
   "cell_type": "code",
   "execution_count": 17,
   "id": "moving-feeling",
   "metadata": {},
   "outputs": [
    {
     "name": "stdout",
     "output_type": "stream",
     "text": [
      "{'name': 'Ben', 'address': 'Park Lane 38'}\n"
     ]
    }
   ],
   "source": [
    "myquery = { \"address\": \"Park Lane 38\" }\n",
    "\n",
    "mydoc = mycol.find(myquery,{ \"_id\": 0, \"name\": 1, \"address\": 1 })\n",
    "\n",
    "for x in mydoc:\n",
    "  print(x)"
   ]
  },
  {
   "cell_type": "markdown",
   "id": "talented-transport",
   "metadata": {},
   "source": [
    "## Advanced Query\n",
    "To make advanced queries you can use modifiers as values in the query object.\n",
    "\n",
    "E.g. to find the documents where the \"address\" field starts with the letter \"S\" or higher (alphabetically), use the greater than modifier: {\"$gt\": \"S\"}:"
   ]
  },
  {
   "cell_type": "code",
   "execution_count": 18,
   "id": "unauthorized-jimmy",
   "metadata": {},
   "outputs": [
    {
     "name": "stdout",
     "output_type": "stream",
     "text": [
      "{'_id': 5, 'name': 'Michael', 'address': 'Valley 345'}\n",
      "{'_id': 8, 'name': 'Richard', 'address': 'Sky st 331'}\n",
      "{'_id': 10, 'name': 'Vicky', 'address': 'Yellow Garden 2'}\n",
      "{'_id': 14, 'name': 'Viola', 'address': 'Sideway 1633'}\n"
     ]
    }
   ],
   "source": [
    "myquery = { \"address\": { \"$gt\": \"S\" } }\n",
    "\n",
    "mydoc = mycol.find(myquery)\n",
    "\n",
    "for x in mydoc:\n",
    "  print(x)"
   ]
  },
  {
   "cell_type": "markdown",
   "id": "oriented-irish",
   "metadata": {},
   "source": [
    "## Filter With Regular Expressions\n",
    "You can also use regular expressions as a modifier.\n",
    "\n",
    "Regular expressions can only be used to query strings.\n",
    "\n",
    "To find only the documents where the \"address\" field starts with the letter \"S\", use the regular expression {\"$regex\": \"^S\"}:"
   ]
  },
  {
   "cell_type": "code",
   "execution_count": 19,
   "id": "necessary-medication",
   "metadata": {},
   "outputs": [
    {
     "name": "stdout",
     "output_type": "stream",
     "text": [
      "{'_id': 8, 'name': 'Richard', 'address': 'Sky st 331'}\n",
      "{'_id': 14, 'name': 'Viola', 'address': 'Sideway 1633'}\n"
     ]
    }
   ],
   "source": [
    "myquery = { \"address\": { \"$regex\": \"^S\" } }\n",
    "\n",
    "mydoc = mycol.find(myquery)\n",
    "\n",
    "for x in mydoc:\n",
    "  print(x)"
   ]
  },
  {
   "cell_type": "markdown",
   "id": "perceived-ceiling",
   "metadata": {},
   "source": [
    "## Sort the Result\n",
    "Use the sort() method to sort the result in ascending or descending order.\n",
    "\n",
    "The sort() method takes one parameter for \"fieldname\" and one parameter for \"direction\" (ascending is the default direction).\n",
    "\n",
    "Sort Descending\n",
    "Use the value -1 as the second parameter to sort descending.\n",
    "\n",
    "sort(\"name\", 1) #ascending\n",
    "sort(\"name\", -1) #descending"
   ]
  },
  {
   "cell_type": "code",
   "execution_count": 20,
   "id": "major-destruction",
   "metadata": {},
   "outputs": [
    {
     "name": "stdout",
     "output_type": "stream",
     "text": [
      "{'name': 'Amy', 'address': 'Apple st 652'}\n",
      "{'name': 'Ben', 'address': 'Park Lane 38'}\n",
      "{'name': 'Betty', 'address': 'Green Grass 1'}\n",
      "{'name': 'Chuck', 'address': 'Main Road 989'}\n",
      "{'name': 'Hannah', 'address': 'Mountain 21'}\n",
      "{'name': 'John', 'address': 'Highway 37'}\n",
      "{'name': 'Michael', 'address': 'Valley 345'}\n",
      "{'name': 'Peter', 'address': 'Lowstreet 27'}\n",
      "{'name': 'Richard', 'address': 'Sky st 331'}\n",
      "{'name': 'Sandy', 'address': 'Ocean blvd 2'}\n",
      "{'name': 'Susan', 'address': 'One way 98'}\n",
      "{'name': 'Vicky', 'address': 'Yellow Garden 2'}\n",
      "{'name': 'Viola', 'address': 'Sideway 1633'}\n",
      "{'name': 'William', 'address': 'Central st 954'}\n"
     ]
    }
   ],
   "source": [
    "mydoc = mycol.find({},{ \"_id\": 0, \"name\": 1, \"address\": 1 }).sort(\"name\")\n",
    "\n",
    "for x in mydoc:\n",
    "  print(x)"
   ]
  },
  {
   "cell_type": "code",
   "execution_count": 21,
   "id": "beautiful-malaysia",
   "metadata": {},
   "outputs": [
    {
     "name": "stdout",
     "output_type": "stream",
     "text": [
      "{'name': 'William', 'address': 'Central st 954'}\n",
      "{'name': 'Viola', 'address': 'Sideway 1633'}\n",
      "{'name': 'Vicky', 'address': 'Yellow Garden 2'}\n",
      "{'name': 'Susan', 'address': 'One way 98'}\n",
      "{'name': 'Sandy', 'address': 'Ocean blvd 2'}\n",
      "{'name': 'Richard', 'address': 'Sky st 331'}\n",
      "{'name': 'Peter', 'address': 'Lowstreet 27'}\n",
      "{'name': 'Michael', 'address': 'Valley 345'}\n",
      "{'name': 'John', 'address': 'Highway 37'}\n",
      "{'name': 'Hannah', 'address': 'Mountain 21'}\n",
      "{'name': 'Chuck', 'address': 'Main Road 989'}\n",
      "{'name': 'Betty', 'address': 'Green Grass 1'}\n",
      "{'name': 'Ben', 'address': 'Park Lane 38'}\n",
      "{'name': 'Amy', 'address': 'Apple st 652'}\n"
     ]
    }
   ],
   "source": [
    "mydoc = mycol.find({},{ \"_id\": 0, \"name\": 1, \"address\": 1 }).sort(\"name\",-1)\n",
    "\n",
    "for x in mydoc:\n",
    "  print(x)"
   ]
  },
  {
   "cell_type": "markdown",
   "id": "searching-client",
   "metadata": {},
   "source": [
    "## Delete Document\n",
    "To delete one document, we use the delete_one() method.\n",
    "\n",
    "The first parameter of the delete_one() method is a query object defining which document to delete.\n",
    "\n"
   ]
  },
  {
   "cell_type": "code",
   "execution_count": 22,
   "id": "brazilian-phase",
   "metadata": {},
   "outputs": [
    {
     "data": {
      "text/plain": [
       "<pymongo.results.DeleteResult at 0x7fbe68025100>"
      ]
     },
     "execution_count": 22,
     "metadata": {},
     "output_type": "execute_result"
    }
   ],
   "source": [
    "myquery = { \"address\": \"Mountain 21\" }\n",
    "\n",
    "mycol.delete_one(myquery)"
   ]
  },
  {
   "cell_type": "markdown",
   "id": "solar-material",
   "metadata": {},
   "source": [
    "## Delete Many Documents\n",
    "To delete more than one document, use the delete_many() method.\n",
    "\n",
    "The first parameter of the delete_many() method is a query object defining which documents to delete."
   ]
  },
  {
   "cell_type": "code",
   "execution_count": 23,
   "id": "about-conversation",
   "metadata": {},
   "outputs": [
    {
     "name": "stdout",
     "output_type": "stream",
     "text": [
      "{'name': 'John', 'address': 'Highway 37'}\n",
      "{'name': 'Peter', 'address': 'Lowstreet 27'}\n",
      "{'name': 'Amy', 'address': 'Apple st 652'}\n",
      "{'name': 'Michael', 'address': 'Valley 345'}\n",
      "{'name': 'Sandy', 'address': 'Ocean blvd 2'}\n",
      "{'name': 'Betty', 'address': 'Green Grass 1'}\n",
      "{'name': 'Richard', 'address': 'Sky st 331'}\n",
      "{'name': 'Susan', 'address': 'One way 98'}\n",
      "{'name': 'Vicky', 'address': 'Yellow Garden 2'}\n",
      "{'name': 'Ben', 'address': 'Park Lane 38'}\n",
      "{'name': 'William', 'address': 'Central st 954'}\n",
      "{'name': 'Chuck', 'address': 'Main Road 989'}\n",
      "{'name': 'Viola', 'address': 'Sideway 1633'}\n",
      "{'name': 'John', 'address': 'Highway 37'}\n",
      "{'name': 'Peter', 'address': 'Lowstreet 27'}\n",
      "{'name': 'Amy', 'address': 'Apple st 652'}\n",
      "{'name': 'Michael', 'address': 'Valley 345'}\n",
      "{'name': 'Sandy', 'address': 'Ocean blvd 2'}\n",
      "{'name': 'Betty', 'address': 'Green Grass 1'}\n",
      "{'name': 'Susan', 'address': 'One way 98'}\n",
      "{'name': 'Vicky', 'address': 'Yellow Garden 2'}\n",
      "{'name': 'Ben', 'address': 'Park Lane 38'}\n",
      "{'name': 'William', 'address': 'Central st 954'}\n",
      "{'name': 'Chuck', 'address': 'Main Road 989'}\n"
     ]
    },
    {
     "ename": "AttributeError",
     "evalue": "'dict' object has no attribute 'deleted_count'",
     "output_type": "error",
     "traceback": [
      "\u001b[0;31m---------------------------------------------------------------------------\u001b[0m",
      "\u001b[0;31mAttributeError\u001b[0m                            Traceback (most recent call last)",
      "\u001b[0;32m<ipython-input-23-2212571c9064>\u001b[0m in \u001b[0;36m<module>\u001b[0;34m\u001b[0m\n\u001b[1;32m     10\u001b[0m   \u001b[0mprint\u001b[0m\u001b[0;34m(\u001b[0m\u001b[0mx\u001b[0m\u001b[0;34m)\u001b[0m\u001b[0;34m\u001b[0m\u001b[0;34m\u001b[0m\u001b[0m\n\u001b[1;32m     11\u001b[0m \u001b[0;34m\u001b[0m\u001b[0m\n\u001b[0;32m---> 12\u001b[0;31m \u001b[0mprint\u001b[0m\u001b[0;34m(\u001b[0m\u001b[0mx\u001b[0m\u001b[0;34m.\u001b[0m\u001b[0mdeleted_count\u001b[0m\u001b[0;34m,\u001b[0m \u001b[0;34m\" documents deleted.\"\u001b[0m\u001b[0;34m)\u001b[0m\u001b[0;34m\u001b[0m\u001b[0;34m\u001b[0m\u001b[0m\n\u001b[0m",
      "\u001b[0;31mAttributeError\u001b[0m: 'dict' object has no attribute 'deleted_count'"
     ]
    }
   ],
   "source": [
    "myquery = { \"address\": {\"$regex\": \"^S\"} }\n",
    "mydoc = mycol.find({},{ \"_id\": 0, \"name\": 1, \"address\": 1 })\n",
    "for x in mydoc:\n",
    "  print(x)\n",
    "\n",
    "x = mycol.delete_many(myquery)\n",
    "\n",
    "mydoc = mycol.find({},{ \"_id\": 0, \"name\": 1, \"address\": 1 })\n",
    "for x in mydoc:\n",
    "  print(x)\n",
    "\n",
    "print(x.deleted_count, \" documents deleted.\")"
   ]
  },
  {
   "cell_type": "markdown",
   "id": "bizarre-indonesian",
   "metadata": {},
   "source": [
    "## Delete Collection\n",
    "You can delete a table, or collection as it is called in MongoDB, by using the drop() method.\n",
    "\n"
   ]
  },
  {
   "cell_type": "code",
   "execution_count": 24,
   "id": "about-intelligence",
   "metadata": {},
   "outputs": [],
   "source": [
    "mycol.drop()"
   ]
  },
  {
   "cell_type": "markdown",
   "id": "senior-continuity",
   "metadata": {},
   "source": [
    "## Update Collection\n",
    "You can update a record, or document as it is called in MongoDB, by using the update_one() method.\n",
    "\n",
    "The first parameter of the update_one() method is a query object defining which document to update."
   ]
  },
  {
   "cell_type": "code",
   "execution_count": 27,
   "id": "stretch-smooth",
   "metadata": {},
   "outputs": [
    {
     "name": "stdout",
     "output_type": "stream",
     "text": [
      "{'_id': 1, 'name': 'John', 'address': 'Highway 37'}\n",
      "{'_id': 2, 'name': 'Peter', 'address': 'Lowstreet 27'}\n",
      "{'_id': 3, 'name': 'Amy', 'address': 'Apple st 652'}\n",
      "{'_id': 4, 'name': 'Hannah', 'address': 'Mountain 21'}\n",
      "{'_id': 5, 'name': 'Michael', 'address': 'Canyon 123'}\n",
      "{'_id': 6, 'name': 'Sandy', 'address': 'Ocean blvd 2'}\n",
      "{'_id': 7, 'name': 'Betty', 'address': 'Green Grass 1'}\n",
      "{'_id': 8, 'name': 'Richard', 'address': 'Sky st 331'}\n",
      "{'_id': 9, 'name': 'Susan', 'address': 'One way 98'}\n",
      "{'_id': 10, 'name': 'Vicky', 'address': 'Yellow Garden 2'}\n",
      "{'_id': 11, 'name': 'Ben', 'address': 'Park Lane 38'}\n",
      "{'_id': 12, 'name': 'William', 'address': 'Central st 954'}\n",
      "{'_id': 13, 'name': 'Chuck', 'address': 'Main Road 989'}\n",
      "{'_id': 14, 'name': 'Viola', 'address': 'Sideway 1633'}\n"
     ]
    }
   ],
   "source": [
    "myquery = { \"address\": \"Valley 345\" }\n",
    "newvalues = { \"$set\": { \"address\": \"Canyon 123\" } }\n",
    "\n",
    "mycol.update_one(myquery, newvalues)\n",
    "\n",
    "#print \"customers\" after the update:\n",
    "for x in mycol.find():\n",
    "  print(x)"
   ]
  },
  {
   "cell_type": "markdown",
   "id": "guided-impact",
   "metadata": {},
   "source": [
    "## Update Many\n",
    "To update all documents that meets the criteria of the query, use the update_many() method."
   ]
  },
  {
   "cell_type": "code",
   "execution_count": 28,
   "id": "unlike-miami",
   "metadata": {},
   "outputs": [
    {
     "name": "stdout",
     "output_type": "stream",
     "text": [
      "2 documents updated.\n"
     ]
    }
   ],
   "source": [
    "myquery = { \"address\": { \"$regex\": \"^S\" } }\n",
    "newvalues = { \"$set\": { \"name\": \"Minnie\" } }\n",
    "\n",
    "x = mycol.update_many(myquery, newvalues)\n",
    "\n",
    "print(x.modified_count, \"documents updated.\")"
   ]
  },
  {
   "cell_type": "markdown",
   "id": "retired-liberty",
   "metadata": {},
   "source": [
    "## Limit the Result\n",
    "To limit the result in MongoDB, we use the limit() method.\n",
    "\n",
    "The limit() method takes one parameter, a number defining how many documents to return."
   ]
  },
  {
   "cell_type": "code",
   "execution_count": 29,
   "id": "beautiful-disclosure",
   "metadata": {},
   "outputs": [
    {
     "name": "stdout",
     "output_type": "stream",
     "text": [
      "{'_id': 1, 'name': 'John', 'address': 'Highway 37'}\n",
      "{'_id': 2, 'name': 'Peter', 'address': 'Lowstreet 27'}\n",
      "{'_id': 3, 'name': 'Amy', 'address': 'Apple st 652'}\n",
      "{'_id': 4, 'name': 'Hannah', 'address': 'Mountain 21'}\n",
      "{'_id': 5, 'name': 'Michael', 'address': 'Canyon 123'}\n"
     ]
    }
   ],
   "source": [
    "myresult = mycol.find().limit(5)\n",
    "\n",
    "#print the result:\n",
    "for x in myresult:\n",
    "  print(x)"
   ]
  },
  {
   "cell_type": "code",
   "execution_count": null,
   "id": "interstate-friday",
   "metadata": {},
   "outputs": [],
   "source": []
  }
 ],
 "metadata": {
  "kernelspec": {
   "display_name": "Python 3",
   "language": "python",
   "name": "python3"
  },
  "language_info": {
   "codemirror_mode": {
    "name": "ipython",
    "version": 3
   },
   "file_extension": ".py",
   "mimetype": "text/x-python",
   "name": "python",
   "nbconvert_exporter": "python",
   "pygments_lexer": "ipython3",
   "version": "3.8.5"
  }
 },
 "nbformat": 4,
 "nbformat_minor": 5
}
